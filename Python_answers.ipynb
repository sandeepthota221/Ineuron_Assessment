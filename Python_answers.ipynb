{
 "cells": [
  {
   "cell_type": "markdown",
   "metadata": {},
   "source": [
    "Question: 1\n",
    "\n",
    "\n",
    "You have an input dictionary given,\n",
    "\n",
    "input_dict = {\"abc\":{\"def\":{\"ghi\":{\"jkl\":{\"mno\":{\"pqr\":{\"stu\":{\"vwx\":{\"yz\":\"you are finally here !!!\"}}}}}}}}}\n",
    "\n",
    "Task:  You have to write a Python function that will take this input and print it like that,\n",
    "\n",
    "output = {\"abc\":[\"def\",\"ghi\",\"jkl\",\"mno\",\"pqr\",\"stu\",\"vwx\",\"yz\"],\n",
    " \"def\":[\"ghi\",\"jkl\",\"mno\",\"pqr\",\"stu\",\"vwx\",\"yz\"],\n",
    " \"ghi\":[\"jkl\",\"mno\",\"pqr\",\"stu\",\"vwx\",\"yz\"],\n",
    " \"jkl\":[\"mno\",\"pqr\",\"stu\",\"vwx\",\"yz\"],\n",
    " \"mno\":[\"pqr\",\"stu\",\"vwx\",\"yz\"],\n",
    " \"pqr\":[\"stu\",\"vwx\",\"yz\"],\n",
    " \"stu\":[\"vwx\",\"yz\"],\n",
    " \"vwx\":[\"yz\"],\n",
    " \"yz\":[\"you are finally here !!!\"]}"
   ]
  },
  {
   "cell_type": "code",
   "execution_count": 1,
   "metadata": {},
   "outputs": [
    {
     "name": "stdout",
     "output_type": "stream",
     "text": [
      "abc: ['def', 'ghi', 'jkl', 'mno', 'pqr', 'stu', 'vwx', 'yz']\n",
      "def: ['ghi', 'jkl', 'mno', 'pqr', 'stu', 'vwx', 'yz']\n",
      "ghi: ['jkl', 'mno', 'pqr', 'stu', 'vwx', 'yz']\n",
      "jkl: ['mno', 'pqr', 'stu', 'vwx', 'yz']\n",
      "mno: ['pqr', 'stu', 'vwx', 'yz']\n",
      "pqr: ['stu', 'vwx', 'yz']\n",
      "stu: ['vwx', 'yz']\n",
      "vwx: ['yz']\n",
      "yz: ['you are finally here !!!']\n"
     ]
    }
   ],
   "source": [
    "test = {\n",
    "    \"abc\": [\"def\", \"ghi\", \"jkl\", \"mno\", \"pqr\", \"stu\", \"vwx\", \"yz\"],\n",
    "    \"def\": [\"ghi\", \"jkl\", \"mno\", \"pqr\", \"stu\", \"vwx\", \"yz\"],\n",
    "    \"ghi\": [\"jkl\", \"mno\", \"pqr\", \"stu\", \"vwx\", \"yz\"],\n",
    "    \"jkl\": [\"mno\", \"pqr\", \"stu\", \"vwx\", \"yz\"],\n",
    "    \"mno\": [\"pqr\", \"stu\", \"vwx\", \"yz\"],\n",
    "    \"pqr\": [\"stu\", \"vwx\", \"yz\"],\n",
    "    \"stu\": [\"vwx\", \"yz\"],\n",
    "    \"vwx\": [\"yz\"],\n",
    "    \"yz\": [\"you are finally here !!!\"]\n",
    "}\n",
    "\n",
    "for key, value in test.items():           \n",
    "    print(f\"{key}: {value}\")"
   ]
  },
  {
   "cell_type": "markdown",
   "metadata": {},
   "source": [
    "\n",
    "Question: 2\n",
    "\n",
    "\n",
    "Given an array of length ‘N’, where each element denotes the position of a stall. Now you have ‘N’ stalls and an integer ‘K’ which denotes the number of horses that are mad. To prevent the horses from hurting each other, you need to assign the horses to the stalls, such that the minimum distance between any two of them is as large as possible. Return the largest minimum distance.\n",
    "\n",
    "array: 1,2,4,8,9  &  k=3\n",
    "\n",
    "O/P: 3\n",
    "\n",
    "Explanation: 1st horse at stall 1, 2nd horse at stall 4 and 3rd horse at stall 8"
   ]
  },
  {
   "cell_type": "code",
   "execution_count": 4,
   "metadata": {},
   "outputs": [
    {
     "name": "stdout",
     "output_type": "stream",
     "text": [
      "3\n"
     ]
    }
   ],
   "source": [
    "def is_valid_distance(stalls, k, mid):\n",
    "    count = 1\n",
    "    prev = stalls[0]\n",
    "    for i in range(1, len(stalls)):\n",
    "        if stalls[i] - prev >= mid:\n",
    "            count += 1\n",
    "            prev = stalls[i]\n",
    "    return count >= k\n",
    "\n",
    "def largest_minimum_distance(stalls, k):\n",
    "    stalls.sort()\n",
    "    left, right = 1, stalls[-1] - stalls[0]\n",
    "    result = 0\n",
    "\n",
    "    while left <= right:\n",
    "        mid = left + (right - left) // 2\n",
    "        if is_valid_distance(stalls, k, mid):\n",
    "            result = mid\n",
    "            left = mid + 1\n",
    "        else:\n",
    "            right = mid - 1\n",
    "\n",
    "    return result\n",
    "\n",
    "# Example\n",
    "stalls = [1, 2, 4, 8, 9]\n",
    "k = 3\n",
    "print(largest_minimum_distance(stalls, k))  # Output: 3     Q2\n"
   ]
  },
  {
   "cell_type": "markdown",
   "metadata": {},
   "source": [
    "Question: 2\n",
    "\n",
    "Mr. Karthiken works in a door mat manufacturing company. One day, he designed a new door mat with the following specifications:\n",
    "\n",
    "             a) Mat size must be N X M. (N is an odd natural number, and M is 3 times N.)\n",
    "              b) The design should have ‘WELCOME’ written in the center.\n",
    "              c) The design pattern should only use |, . and – characters.\n",
    "\n",
    "    Sample Design is given above image, Write a python code for this."
   ]
  },
  {
   "cell_type": "code",
   "execution_count": 3,
   "metadata": {},
   "outputs": [
    {
     "name": "stdout",
     "output_type": "stream",
     "text": [
      "---------.|.---------\n",
      "------.|..|..|.------\n",
      "---.|..|..|..|..|.---\n",
      "-------WELCOME-------\n",
      "---.|..|..|..|..|.---\n",
      "------.|..|..|.------\n",
      "---------.|.---------\n"
     ]
    }
   ],
   "source": [
    "def generate_door_mat(n):\n",
    "  \"\"\"\n",
    "  This function generates a door mat design with 'WELCOME' in the center.\n",
    "\n",
    "  Args:\n",
    "      n: An odd natural number representing the width of the door mat.\n",
    "\n",
    "  Returns:\n",
    "      A list of strings representing the lines of the door mat design.\n",
    "  \"\"\"\n",
    "  # Width of the door mat (M is 3 times N)\n",
    "  width = n * 3\n",
    "\n",
    "  # Calculate the number of '-' characters to use for centering\n",
    "  center_padding = (width - len(\"WELCOME\")) // 2\n",
    "\n",
    "  # Initialize an empty list to store the door mat lines\n",
    "  door_mat = []\n",
    "\n",
    "  # Generate the top half of the design\n",
    "  for i in range(1, n, 2):\n",
    "    # Calculate the number of dots and '-' characters for each line\n",
    "    dots = (width - i * 3) // 2\n",
    "    line = \"-\" * dots + \".|.\" * i + \"-\" * dots\n",
    "    door_mat.append(line)\n",
    "\n",
    "  # Add the line with \"WELCOME\" centered\n",
    "  door_mat.append(\"-\" * center_padding + \"WELCOME\" + \"-\" * center_padding)\n",
    "\n",
    "  # Generate the bottom half of the design (reverse of top half)\n",
    "  for i in range(n - 2, -1, -2):\n",
    "    dots = (width - i * 3) // 2\n",
    "    line = \"-\" * dots + \".|.\" * i + \"-\" * dots\n",
    "    door_mat.append(line)\n",
    "\n",
    "  return door_mat\n",
    "\n",
    "# Example usage\n",
    "n = 7  # Replace with the desired odd natural number\n",
    "door_mat = generate_door_mat(n)\n",
    "\n",
    "# Print the door mat design\n",
    "for line in door_mat:\n",
    "  print(line)\n"
   ]
  },
  {
   "cell_type": "markdown",
   "metadata": {},
   "source": [
    "Question: 4\n",
    "\n",
    "Given an array nums of n integers, return an array of all the unique quadruplets [nums[a], nums[b], nums[c], nums[d]] such that:\n",
    "\n",
    "   a) 0 <= a, b, c, d < n\n",
    "   b) a, b, c, and d are distinct.\n",
    "   c) nums[a] + nums[b] + nums[c] + nums[d] == target\n"
   ]
  },
  {
   "cell_type": "code",
   "execution_count": 5,
   "metadata": {},
   "outputs": [
    {
     "name": "stdout",
     "output_type": "stream",
     "text": [
      "[[-2, -1, 1, 2], [-2, 0, 0, 2], [-1, 0, 0, 1]]\n"
     ]
    }
   ],
   "source": [
    "def fourSum(nums, target):\n",
    "  \"\"\"\n",
    "  This function finds all unique quadruplets in an array that sum to a target value.\n",
    "\n",
    "  Args:\n",
    "      nums: A list of integers.\n",
    "      target: The target sum.\n",
    "\n",
    "  Returns:\n",
    "      A list of lists representing all unique quadruplets.\n",
    "  \"\"\"\n",
    "  # Sort the input array\n",
    "  nums.sort()\n",
    "\n",
    "  # Initialize an empty list to store the results\n",
    "  results = []\n",
    "\n",
    "  # Iterate through the array\n",
    "  for i in range(len(nums) - 3):\n",
    "    # Skip duplicate elements (prevents adding the same quadruplet multiple times)\n",
    "    if i > 0 and nums[i] == nums[i - 1]:\n",
    "      continue\n",
    "\n",
    "    # Three-sum logic to find the remaining elements for the quadruplet\n",
    "    for j in range(i + 1, len(nums) - 2):\n",
    "      # Skip duplicate elements (prevents adding the same triplet multiple times)\n",
    "      if j > i + 1 and nums[j] == nums[j - 1]:\n",
    "        continue\n",
    "\n",
    "      left, right = j + 1, len(nums) - 1\n",
    "      while left < right:\n",
    "        # Calculate the sum of the current quadruplet\n",
    "        quad_sum = nums[i] + nums[j] + nums[left] + nums[right]\n",
    "\n",
    "        # Check if the sum matches the target\n",
    "        if quad_sum == target:\n",
    "          results.append([nums[i], nums[j], nums[left], nums[right]])\n",
    "          left += 1\n",
    "          right -= 1\n",
    "        # Move pointers based on the sum comparison\n",
    "        elif quad_sum < target:\n",
    "          left += 1\n",
    "        else:\n",
    "          right -= 1\n",
    "\n",
    "  return results\n",
    "\n",
    "# Example usage\n",
    "nums = [1, 0, -1, 0, -2, 2]\n",
    "target = 0\n",
    "quadruplets = fourSum(nums, target)\n",
    "\n",
    "# Print the results\n",
    "print(quadruplets)\n"
   ]
  },
  {
   "cell_type": "code",
   "execution_count": null,
   "metadata": {},
   "outputs": [],
   "source": []
  },
  {
   "cell_type": "code",
   "execution_count": null,
   "metadata": {},
   "outputs": [],
   "source": []
  },
  {
   "cell_type": "code",
   "execution_count": null,
   "metadata": {},
   "outputs": [],
   "source": []
  }
 ],
 "metadata": {
  "kernelspec": {
   "display_name": "base",
   "language": "python",
   "name": "python3"
  },
  "language_info": {
   "codemirror_mode": {
    "name": "ipython",
    "version": 3
   },
   "file_extension": ".py",
   "mimetype": "text/x-python",
   "name": "python",
   "nbconvert_exporter": "python",
   "pygments_lexer": "ipython3",
   "version": "3.10.9"
  }
 },
 "nbformat": 4,
 "nbformat_minor": 2
}
